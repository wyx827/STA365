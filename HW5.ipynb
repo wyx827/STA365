{
  "nbformat": 4,
  "nbformat_minor": 0,
  "metadata": {
    "colab": {
      "provenance": []
    },
    "kernelspec": {
      "name": "python3",
      "display_name": "Python 3"
    },
    "language_info": {
      "name": "python"
    }
  },
  "cells": [
    {
      "cell_type": "markdown",
      "source": [
        "# HW5"
      ],
      "metadata": {
        "id": "YEqLgXbWlc03"
      }
    },
    {
      "cell_type": "code",
      "source": [
        "import pymc as pm\n",
        "import numpy as np\n",
        "from scipy import stats"
      ],
      "metadata": {
        "id": "XcRQlCA_lhDd"
      },
      "execution_count": 2,
      "outputs": []
    },
    {
      "cell_type": "code",
      "source": [
        "# Define the dimensionality of the multivariate normal distribution\n",
        "p = 10\n",
        "\n",
        "# Define the scale matrix for the Wishart distribution\n",
        "Psi = np.eye(p)\n",
        "\n",
        "# Generate an inverse-Wishart sample for the covariance matrix\n",
        "a_cov = stats.invwishart(df=p+2, scale=Psi).rvs(1)\n",
        "\n",
        "# Define the number of data points\n",
        "n = 1000\n",
        "\n",
        "# Generate simulated data points from a multivariate normal distribution\n",
        "y = stats.multivariate_normal(mean=np.zeros(p), cov=a_cov).rvs(size=n)"
      ],
      "metadata": {
        "id": "Yir-eyDmljAG"
      },
      "execution_count": 6,
      "outputs": []
    },
    {
      "cell_type": "code",
      "source": [
        "# Define the PyMC3 model using the LKJCholeskyCov distribution\n",
        "with pm.Model() as MNV_LKJ:\n",
        "    packed_L = pm.LKJCholeskyCov(\"packed_L\", n=p, eta=2.0,\n",
        "                                 sd_dist=pm.Exponential.dist(1.0, shape=p), compute_corr=False)\n",
        "    # Define the Cholesky factor of the covariance matrix\n",
        "\n",
        "    L = pm.expand_packed_triangular(p, packed_L)\n",
        "\n",
        "    Sigma = pm.Deterministic('Sigma', L.dot(L.T))  # Reconstructing the covariance matrix\n",
        "\n",
        "    # Define the prior for the mean vector using a small constant for the covariance for numerical stability\n",
        "    mu = pm.MvNormal('mu', mu=np.zeros(p), cov=np.eye(p)*1e-6, shape=p)\n",
        "\n",
        "    # Define the likelihood of the observed data\n",
        "    y_obs = pm.MvNormal('y_obs', mu=mu, chol=L, observed=y)\n",
        "\n",
        "# Sampling from the model\n",
        "with MNV_LKJ:\n",
        "    trace = pm.sample()\n",
        "\n",
        "# The trace object now contains the samples for the posterior distribution."
      ],
      "metadata": {
        "colab": {
          "base_uri": "https://localhost:8080/",
          "height": 57
        },
        "id": "AV1X3fFMljC2",
        "outputId": "4a6f0c79-216e-4557-c20d-5d705601ffae"
      },
      "execution_count": 7,
      "outputs": [
        {
          "output_type": "display_data",
          "data": {
            "text/plain": [
              "<IPython.core.display.HTML object>"
            ],
            "text/html": [
              "\n",
              "<style>\n",
              "    /* Turns off some styling */\n",
              "    progress {\n",
              "        /* gets rid of default border in Firefox and Opera. */\n",
              "        border: none;\n",
              "        /* Needs to be in here for Safari polyfill so background images work as expected. */\n",
              "        background-size: auto;\n",
              "    }\n",
              "    progress:not([value]), progress:not([value])::-webkit-progress-bar {\n",
              "        background: repeating-linear-gradient(45deg, #7e7e7e, #7e7e7e 10px, #5c5c5c 10px, #5c5c5c 20px);\n",
              "    }\n",
              "    .progress-bar-interrupted, .progress-bar-interrupted::-webkit-progress-bar {\n",
              "        background: #F44336;\n",
              "    }\n",
              "</style>\n"
            ]
          },
          "metadata": {}
        },
        {
          "output_type": "display_data",
          "data": {
            "text/plain": [
              "<IPython.core.display.HTML object>"
            ],
            "text/html": [
              "\n",
              "    <div>\n",
              "      <progress value='2000' class='' max='2000' style='width:300px; height:20px; vertical-align: middle;'></progress>\n",
              "      100.00% [2000/2000 01:33&lt;00:00 Sampling chain 0, 0 divergences]\n",
              "    </div>\n",
              "    "
            ]
          },
          "metadata": {}
        },
        {
          "output_type": "display_data",
          "data": {
            "text/plain": [
              "<IPython.core.display.HTML object>"
            ],
            "text/html": [
              "\n",
              "<style>\n",
              "    /* Turns off some styling */\n",
              "    progress {\n",
              "        /* gets rid of default border in Firefox and Opera. */\n",
              "        border: none;\n",
              "        /* Needs to be in here for Safari polyfill so background images work as expected. */\n",
              "        background-size: auto;\n",
              "    }\n",
              "    progress:not([value]), progress:not([value])::-webkit-progress-bar {\n",
              "        background: repeating-linear-gradient(45deg, #7e7e7e, #7e7e7e 10px, #5c5c5c 10px, #5c5c5c 20px);\n",
              "    }\n",
              "    .progress-bar-interrupted, .progress-bar-interrupted::-webkit-progress-bar {\n",
              "        background: #F44336;\n",
              "    }\n",
              "</style>\n"
            ]
          },
          "metadata": {}
        },
        {
          "output_type": "display_data",
          "data": {
            "text/plain": [
              "<IPython.core.display.HTML object>"
            ],
            "text/html": [
              "\n",
              "    <div>\n",
              "      <progress value='2000' class='' max='2000' style='width:300px; height:20px; vertical-align: middle;'></progress>\n",
              "      100.00% [2000/2000 01:35&lt;00:00 Sampling chain 1, 0 divergences]\n",
              "    </div>\n",
              "    "
            ]
          },
          "metadata": {}
        }
      ]
    }
  ]
}