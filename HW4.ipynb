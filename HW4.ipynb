{
  "nbformat": 4,
  "nbformat_minor": 0,
  "metadata": {
    "colab": {
      "provenance": []
    },
    "kernelspec": {
      "name": "python3",
      "display_name": "Python 3"
    },
    "language_info": {
      "name": "python"
    }
  },
  "cells": [
    {
      "cell_type": "markdown",
      "source": [
        "# Homework #4:\n"
      ],
      "metadata": {
        "id": "tsNALHLNzeXE"
      }
    },
    {
      "cell_type": "code",
      "source": [
        "import pymc as pm\n",
        "import arviz as az\n",
        "from scipy import stats\n",
        "import numpy as np\n",
        "import matplotlib.pyplot as plt"
      ],
      "metadata": {
        "id": "glqgJkCszfI9"
      },
      "execution_count": 6,
      "outputs": []
    },
    {
      "cell_type": "code",
      "source": [
        "# True values\n",
        "mu_0, sigma_0 = 0, 10\n",
        "n, loc_true, scale_true, df_true = 100, 10, 2, 15\n",
        "\n",
        "# Generate data\n",
        "x = stats.t(df = df_true, loc = loc_true, scale = scale_true).rvs(n)"
      ],
      "metadata": {
        "id": "hyNd2f-tzlFb"
      },
      "execution_count": 7,
      "outputs": []
    },
    {
      "cell_type": "code",
      "source": [
        "# Bayesian model specification using PyMC\n",
        "with pm.Model() as model:\n",
        "    # Define priors for the parameters\n",
        "    loc = pm.Normal('loc', mu = mu_0, sigma = sigma_0)  # Prior for the location parameter of the Student's t-distribution\n",
        "    scale = pm.HalfNormal('scale', sigma = 5)  # Prior for the scale parameter of the Student's t-distribution\n",
        "    df = pm.DiscreteUniform('df', lower = 1, upper = 100) # Prior for the degrees of freedom parameter of the Student's t-distribution\n",
        "\n",
        "    # Define the likelihood\n",
        "    x_obs = pm.StudentT('x_obs', mu = loc, lam = 1/scale**2, nu = df, observed = x)\n",
        "\n",
        "    # Posterior\n",
        "    trace = pm.sample(draws = 3000, tune = 2000, target_accept = 0.95)"
      ],
      "metadata": {
        "colab": {
          "base_uri": "https://localhost:8080/",
          "height": 57
        },
        "id": "b3Y628VhzlJ1",
        "outputId": "5e548805-a6f6-4aa1-df40-e0ae30872cf2"
      },
      "execution_count": 8,
      "outputs": [
        {
          "output_type": "display_data",
          "data": {
            "text/plain": [
              "<IPython.core.display.HTML object>"
            ],
            "text/html": [
              "\n",
              "<style>\n",
              "    /* Turns off some styling */\n",
              "    progress {\n",
              "        /* gets rid of default border in Firefox and Opera. */\n",
              "        border: none;\n",
              "        /* Needs to be in here for Safari polyfill so background images work as expected. */\n",
              "        background-size: auto;\n",
              "    }\n",
              "    progress:not([value]), progress:not([value])::-webkit-progress-bar {\n",
              "        background: repeating-linear-gradient(45deg, #7e7e7e, #7e7e7e 10px, #5c5c5c 10px, #5c5c5c 20px);\n",
              "    }\n",
              "    .progress-bar-interrupted, .progress-bar-interrupted::-webkit-progress-bar {\n",
              "        background: #F44336;\n",
              "    }\n",
              "</style>\n"
            ]
          },
          "metadata": {}
        },
        {
          "output_type": "display_data",
          "data": {
            "text/plain": [
              "<IPython.core.display.HTML object>"
            ],
            "text/html": [
              "\n",
              "    <div>\n",
              "      <progress value='5000' class='' max='5000' style='width:300px; height:20px; vertical-align: middle;'></progress>\n",
              "      100.00% [5000/5000 00:08&lt;00:00 Sampling chain 0, 0 divergences]\n",
              "    </div>\n",
              "    "
            ]
          },
          "metadata": {}
        },
        {
          "output_type": "display_data",
          "data": {
            "text/plain": [
              "<IPython.core.display.HTML object>"
            ],
            "text/html": [
              "\n",
              "<style>\n",
              "    /* Turns off some styling */\n",
              "    progress {\n",
              "        /* gets rid of default border in Firefox and Opera. */\n",
              "        border: none;\n",
              "        /* Needs to be in here for Safari polyfill so background images work as expected. */\n",
              "        background-size: auto;\n",
              "    }\n",
              "    progress:not([value]), progress:not([value])::-webkit-progress-bar {\n",
              "        background: repeating-linear-gradient(45deg, #7e7e7e, #7e7e7e 10px, #5c5c5c 10px, #5c5c5c 20px);\n",
              "    }\n",
              "    .progress-bar-interrupted, .progress-bar-interrupted::-webkit-progress-bar {\n",
              "        background: #F44336;\n",
              "    }\n",
              "</style>\n"
            ]
          },
          "metadata": {}
        },
        {
          "output_type": "display_data",
          "data": {
            "text/plain": [
              "<IPython.core.display.HTML object>"
            ],
            "text/html": [
              "\n",
              "    <div>\n",
              "      <progress value='5000' class='' max='5000' style='width:300px; height:20px; vertical-align: middle;'></progress>\n",
              "      100.00% [5000/5000 00:10&lt;00:00 Sampling chain 1, 0 divergences]\n",
              "    </div>\n",
              "    "
            ]
          },
          "metadata": {}
        }
      ]
    },
    {
      "cell_type": "code",
      "source": [
        "# Analyze the posterior samples\n",
        "az.plot_trace(trace, figsize=(12,12))\n",
        "az.summary(trace, round_to = 2)\n",
        "\n",
        "# Analyze the effective sample size (ESS) for the degrees of freedom (df) parameter\n",
        "df_summary = az.summary(trace, var_names = ['df'], round_to = 2)\n",
        "df_ess = df_summary['ess_bulk']\n",
        "print(f\"Effective sample size for df parameter: {df_ess}\")"
      ],
      "metadata": {
        "id": "iP-9cHCOzuvB"
      },
      "execution_count": null,
      "outputs": []
    },
    {
      "cell_type": "code",
      "source": [
        "with pm.Model() as t_norm_half_norm_discrete:\n",
        "    # Priors\n",
        "    loc = pm.Normal(\"loc\", mu = 0, sigma = 10)\n",
        "    scale = pm.HalfNormal(\"scale\", sigma = 5)\n",
        "    df = pm.DiscreteUniform(\"df\", lower = 1,upper = 100)\n",
        "\n",
        "    # Likelihood\n",
        "    x_obs = pm.StudentT(\"likelihood\", mu = loc, sigma = scale, nu = df, observed = x)\n",
        "\n",
        "   # Sampling\n",
        "with t_norm_half_norm_discrete:\n",
        "    idata = pm.sample()\n",
        "\n",
        "az.plot_trace(idata,figsize=(12,12))"
      ],
      "metadata": {
        "id": "OqDmUYNXzuxn"
      },
      "execution_count": null,
      "outputs": []
    }
  ]
}