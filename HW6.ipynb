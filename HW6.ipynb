{
 "cells": [
  {
   "cell_type": "markdown",
   "metadata": {
    "id": "YEqLgXbWlc03"
   },
   "source": [
    "# HW6"
   ]
  },
  {
   "cell_type": "markdown",
   "metadata": {},
   "source": [
    "The dataset is from https://www.kaggle.com/datasets/willianoliveiragibin/healthcare-insurance?resource=download"
   ]
  },
  {
   "cell_type": "code",
   "execution_count": 1,
   "metadata": {
    "id": "XcRQlCA_lhDd"
   },
   "outputs": [],
   "source": [
    "import pymc as pm\n",
    "import numpy as np\n",
    "from scipy import stats\n",
    "import pandas as pd\n",
    "import arviz as az\n",
    "import matplotlib.pyplot as plt\n",
    "from scipy.linalg import cholesky"
   ]
  },
  {
   "cell_type": "code",
   "execution_count": 6,
   "metadata": {},
   "outputs": [
    {
     "name": "stderr",
     "output_type": "stream",
     "text": [
      "Auto-assigning NUTS sampler...\n",
      "Initializing NUTS using jitter+adapt_diag...\n",
      "Multiprocess sampling (4 chains in 4 jobs)\n",
      "NUTS: [betas]\n"
     ]
    },
    {
     "data": {
      "text/html": [
       "\n",
       "<style>\n",
       "    /* Turns off some styling */\n",
       "    progress {\n",
       "        /* gets rid of default border in Firefox and Opera. */\n",
       "        border: none;\n",
       "        /* Needs to be in here for Safari polyfill so background images work as expected. */\n",
       "        background-size: auto;\n",
       "    }\n",
       "    progress:not([value]), progress:not([value])::-webkit-progress-bar {\n",
       "        background: repeating-linear-gradient(45deg, #7e7e7e, #7e7e7e 10px, #5c5c5c 10px, #5c5c5c 20px);\n",
       "    }\n",
       "    .progress-bar-interrupted, .progress-bar-interrupted::-webkit-progress-bar {\n",
       "        background: #F44336;\n",
       "    }\n",
       "</style>\n"
      ],
      "text/plain": [
       "<IPython.core.display.HTML object>"
      ]
     },
     "metadata": {},
     "output_type": "display_data"
    },
    {
     "data": {
      "text/html": [
       "\n",
       "    <div>\n",
       "      <progress value='8000' class='' max='8000' style='width:300px; height:20px; vertical-align: middle;'></progress>\n",
       "      100.00% [8000/8000 00:34&lt;00:00 Sampling 4 chains, 0 divergences]\n",
       "    </div>\n",
       "    "
      ],
      "text/plain": [
       "<IPython.core.display.HTML object>"
      ]
     },
     "metadata": {},
     "output_type": "display_data"
    },
    {
     "name": "stderr",
     "output_type": "stream",
     "text": [
      "Sampling 4 chains for 1_000 tune and 1_000 draw iterations (4_000 + 4_000 draws total) took 35 seconds.\n"
     ]
    }
   ],
   "source": [
    "# Load data from CSV\n",
    "data = pd.read_csv('insurance.csv')\n",
    "\n",
    "# Define the number of data points\n",
    "n = len(data)\n",
    "\n",
    "# Define the dimensionality of the multivariate normal distribution\n",
    "p = data.shape[1]\n",
    "\n",
    "X,y=np.zeros((n,p)),np.ones((n,1))\n",
    "\n",
    "with pm.Model() as logistic_model:\n",
    "    # Priors for the regression coefficients\n",
    "    betas = pm.MvNormal('betas', mu = np.zeros((p,1)), cov = np.eye(p), shape = (p,1))\n",
    "    # Linear combination of features and weights\n",
    "    linear_comb = pm.math.dot(X, betas)\n",
    "    # Using a logit link function\n",
    "    p = pm.math.sigmoid (linear_comb)\n",
    "    # Bernoulli likelihood\n",
    "    y_obs = pm.Bernoulli('y_obs', p=p, observed=y)\n",
    "    \n",
    "with logistic_model:\n",
    "    idata = pm.sample()"
   ]
  },
  {
   "cell_type": "code",
   "execution_count": 8,
   "metadata": {
    "id": "Yir-eyDmljAG"
   },
   "outputs": [
    {
     "name": "stderr",
     "output_type": "stream",
     "text": [
      "Auto-assigning NUTS sampler...\n",
      "Initializing NUTS using jitter+adapt_diag...\n",
      "Multiprocess sampling (4 chains in 4 jobs)\n",
      "NUTS: [beta, nu, lambda]\n"
     ]
    },
    {
     "data": {
      "text/html": [
       "\n",
       "<style>\n",
       "    /* Turns off some styling */\n",
       "    progress {\n",
       "        /* gets rid of default border in Firefox and Opera. */\n",
       "        border: none;\n",
       "        /* Needs to be in here for Safari polyfill so background images work as expected. */\n",
       "        background-size: auto;\n",
       "    }\n",
       "    progress:not([value]), progress:not([value])::-webkit-progress-bar {\n",
       "        background: repeating-linear-gradient(45deg, #7e7e7e, #7e7e7e 10px, #5c5c5c 10px, #5c5c5c 20px);\n",
       "    }\n",
       "    .progress-bar-interrupted, .progress-bar-interrupted::-webkit-progress-bar {\n",
       "        background: #F44336;\n",
       "    }\n",
       "</style>\n"
      ],
      "text/plain": [
       "<IPython.core.display.HTML object>"
      ]
     },
     "metadata": {},
     "output_type": "display_data"
    },
    {
     "data": {
      "text/html": [
       "\n",
       "    <div>\n",
       "      <progress value='8000' class='' max='8000' style='width:300px; height:20px; vertical-align: middle;'></progress>\n",
       "      100.00% [8000/8000 00:24&lt;00:00 Sampling 4 chains, 0 divergences]\n",
       "    </div>\n",
       "    "
      ],
      "text/plain": [
       "<IPython.core.display.HTML object>"
      ]
     },
     "metadata": {},
     "output_type": "display_data"
    },
    {
     "name": "stderr",
     "output_type": "stream",
     "text": [
      "Sampling 4 chains for 1_000 tune and 1_000 draw iterations (4_000 + 4_000 draws total) took 25 seconds.\n",
      "The rhat statistic is larger than 1.01 for some parameters. This indicates problems during sampling. See https://arxiv.org/abs/1903.08008 for details\n",
      "The effective sample size per chain is smaller than 100 for some parameters.  A higher number is needed for reliable rhat and ess computation. See https://arxiv.org/abs/1903.08008 for details\n"
     ]
    },
    {
     "name": "stdout",
     "output_type": "stream",
     "text": [
      "Potential outliers: [ 23  61  83 101 102 109 116 151 157 160 161 165 219 229 233 276 289 291\n",
      " 325 346 355 382 413 426 453 491 495 496 539 562 591 594 597 615 638 649\n",
      " 662 695 712 750 766 800 816 911 924 926 934 956 957 971]\n"
     ]
    }
   ],
   "source": [
    "np.random.seed(42)\n",
    "n_samples = 1000\n",
    "X = np.random.normal(size=(n_samples, 1))\n",
    "true_beta = 2.5\n",
    "mu = X * true_beta\n",
    "w = 0.5\n",
    "nu = 5\n",
    "\n",
    "# Simulating y with a normal distribution (for simplicity)\n",
    "y = np.random.normal(mu.flatten(), scale=w)\n",
    "\n",
    "# Robust regression model with explicit lambda modeling\n",
    "with pm.Model() as robust_model_with_lambda:\n",
    "    # Priors\n",
    "    beta = pm.Normal('beta', mu=0, sigma=10)\n",
    "    nu = pm.Exponential('nu', 1/29) + 1\n",
    "    lambda_i = pm.Gamma('lambda', alpha=nu/2, beta=nu/2, shape=n_samples)\n",
    "    sigma_i = pm.Deterministic('sigma_i', 1 / (lambda_i))\n",
    "\n",
    "    # Likelihood\n",
    "    likelihood = pm.Normal('y', mu=X[:,0]*beta, sigma=sigma_i, observed=y)\n",
    "\n",
    "    # Sampling\n",
    "    trace = pm.sample(1000, target_accept=0.9, return_inferencedata=True)\n",
    "\n",
    "# Identify outliers based on the posterior of lambda_i\n",
    "lambda_posterior = trace.posterior['lambda'].values\n",
    "lambda_mean = np.mean(lambda_posterior, axis=(0, 1))\n",
    "outlier_threshold = np.quantile(lambda_mean, 0.05)\n",
    "outliers = np.where(lambda_mean < outlier_threshold)[0]\n",
    "print(f\"Potential outliers: {outliers}\")"
   ]
  }
 ],
 "metadata": {
  "colab": {
   "provenance": []
  },
  "kernelspec": {
   "display_name": "Python 3 (ipykernel)",
   "language": "python",
   "name": "python3"
  },
  "language_info": {
   "codemirror_mode": {
    "name": "ipython",
    "version": 3
   },
   "file_extension": ".py",
   "mimetype": "text/x-python",
   "name": "python",
   "nbconvert_exporter": "python",
   "pygments_lexer": "ipython3",
   "version": "3.11.6"
  }
 },
 "nbformat": 4,
 "nbformat_minor": 1
}
